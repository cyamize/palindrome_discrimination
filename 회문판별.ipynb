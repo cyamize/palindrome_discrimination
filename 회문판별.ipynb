{
  "nbformat": 4,
  "nbformat_minor": 0,
  "metadata": {
    "colab": {
      "name": "회문판별",
      "provenance": [],
      "authorship_tag": "ABX9TyNDNkEmiBQQmyxPmSf5vaS5",
      "include_colab_link": true
    },
    "kernelspec": {
      "name": "python3",
      "display_name": "Python 3"
    },
    "language_info": {
      "name": "python"
    }
  },
  "cells": [
    {
      "cell_type": "markdown",
      "metadata": {
        "id": "view-in-github",
        "colab_type": "text"
      },
      "source": [
        "<a href=\"https://colab.research.google.com/github/cyamize/palindrome_discrimination/blob/main/%ED%9A%8C%EB%AC%B8%ED%8C%90%EB%B3%84.ipynb\" target=\"_parent\"><img src=\"https://colab.research.google.com/assets/colab-badge.svg\" alt=\"Open In Colab\"/></a>"
      ]
    },
    {
      "cell_type": "markdown",
      "metadata": {
        "id": "F0vV4swDiL3Z"
      },
      "source": [
        "# 회문판별"
      ]
    },
    {
      "cell_type": "code",
      "metadata": {
        "colab": {
          "base_uri": "https://localhost:8080/"
        },
        "id": "tstNu5iiiKFU",
        "outputId": "8caa6a95-7051-4332-a01c-bf09331c95f6"
      },
      "source": [
        "def is_pal(data):\n",
        "    for i in range(len(data)//2):\n",
        "        if data[i] == data[-i-1]:\n",
        "            continue\n",
        "        else:\n",
        "            pinrt('회문이 아니다!!!')\n",
        "            return\n",
        "    print('회문이 맞다!!!')\n",
        "is_pal('abcba')"
      ],
      "execution_count": 11,
      "outputs": [
        {
          "output_type": "stream",
          "text": [
            "회문이 맞다!!!\n"
          ],
          "name": "stdout"
        }
      ]
    },
    {
      "cell_type": "code",
      "metadata": {
        "colab": {
          "base_uri": "https://localhost:8080/"
        },
        "id": "Lc6B0fVxiQWk",
        "outputId": "a5aa638b-b4b9-44c1-b5f3-db883780ce46"
      },
      "source": [
        "a= 'asddf'\n",
        "len(a)//2 # //은 소수점이하는 버리고 정수만 나온다.\n",
        "# 이를 통해 회문판별에 사용"
      ],
      "execution_count": 12,
      "outputs": [
        {
          "output_type": "execute_result",
          "data": {
            "text/plain": [
              "2"
            ]
          },
          "metadata": {
            "tags": []
          },
          "execution_count": 12
        }
      ]
    },
    {
      "cell_type": "code",
      "metadata": {
        "colab": {
          "base_uri": "https://localhost:8080/"
        },
        "id": "WXdxp6-WiaUs",
        "outputId": "6a347103-4954-46f0-9012-591029a2810e"
      },
      "source": [
        "data = input()\n",
        "def is_pal(data):\n",
        "    for i in range(len(data) //2):\n",
        "        if data[i] == data[-i-1]:\n",
        "            continue\n",
        "        else:\n",
        "            print('회문이 아니다!')\n",
        "            return\n",
        "    print('회문이다!')\n",
        "is_pal(data)"
      ],
      "execution_count": 13,
      "outputs": [
        {
          "output_type": "stream",
          "text": [
            "asdsa\n",
            "회문이다!\n"
          ],
          "name": "stdout"
        }
      ]
    },
    {
      "cell_type": "markdown",
      "metadata": {
        "id": "r-LIKd3C2mfd"
      },
      "source": [
        "### 1단계\n",
        "\n",
        "- 문자열 매서드인 isalnum()과 lower()을 활용하여 문자열을 리스트로 변환하여 문제를 풀것\n",
        "- isalnum(): 영문자, 숫자 여부를 판별하여, 영문자와 숫자가 아니면 False를 리턴한다\n",
        "- lower(): 영어 알파벳을 모두 소문자로 변환한다.\n",
        "- pop(): 리스트의 특정 인덱스의 요소를 잘라내서 가져온다."
      ]
    },
    {
      "cell_type": "code",
      "metadata": {
        "colab": {
          "base_uri": "https://localhost:8080/"
        },
        "id": "nGMMjsDyisaJ",
        "outputId": "8f7d48df-8e4e-4b91-a8e9-3365f019ff97"
      },
      "source": [
        "data = '0Madam, I\\'m Adam0'\n",
        "def is_pal(data):\n",
        "    # 전처리\n",
        "    list_s = []\n",
        "    for s in data:\n",
        "        if s.isalnum():\n",
        "            list_s.append(s.lower()) # ['m','a','d', .... 'm']으로 리스트에 들어가 있다\n",
        "    while len(list_s) > 1:\n",
        "        if list_s.pop(0) != list_s.pop(): # 같지 않다면\n",
        "            print('회문이 아니다!')\n",
        "            return\n",
        "    print('회문이다!')\n",
        "is_pal(data)"
      ],
      "execution_count": 14,
      "outputs": [
        {
          "output_type": "stream",
          "text": [
            "회문이다!\n"
          ],
          "name": "stdout"
        }
      ]
    },
    {
      "cell_type": "code",
      "metadata": {
        "id": "3V01tJct2xEA"
      },
      "source": [
        "# pop 함수 이해\n",
        "a=[1,2,3,4,5,6,7,8,9]"
      ],
      "execution_count": 15,
      "outputs": []
    },
    {
      "cell_type": "code",
      "metadata": {
        "colab": {
          "base_uri": "https://localhost:8080/"
        },
        "id": "IwLZLUIr20aA",
        "outputId": "a2f7e108-5f43-4169-f7df-21ec146a44d0"
      },
      "source": [
        "a.pop()"
      ],
      "execution_count": 16,
      "outputs": [
        {
          "output_type": "execute_result",
          "data": {
            "text/plain": [
              "9"
            ]
          },
          "metadata": {
            "tags": []
          },
          "execution_count": 16
        }
      ]
    },
    {
      "cell_type": "code",
      "metadata": {
        "colab": {
          "base_uri": "https://localhost:8080/"
        },
        "id": "70t16OaN22_N",
        "outputId": "ef34789d-2434-438f-a735-52e4e4d0f125"
      },
      "source": [
        "a"
      ],
      "execution_count": 17,
      "outputs": [
        {
          "output_type": "execute_result",
          "data": {
            "text/plain": [
              "[1, 2, 3, 4, 5, 6, 7, 8]"
            ]
          },
          "metadata": {
            "tags": []
          },
          "execution_count": 17
        }
      ]
    },
    {
      "cell_type": "code",
      "metadata": {
        "colab": {
          "base_uri": "https://localhost:8080/"
        },
        "id": "jGsE2w9F23d8",
        "outputId": "2a2bf955-98a4-4ab9-f2a5-32b56652650b"
      },
      "source": [
        "a.pop(0)"
      ],
      "execution_count": 18,
      "outputs": [
        {
          "output_type": "execute_result",
          "data": {
            "text/plain": [
              "1"
            ]
          },
          "metadata": {
            "tags": []
          },
          "execution_count": 18
        }
      ]
    },
    {
      "cell_type": "code",
      "metadata": {
        "colab": {
          "base_uri": "https://localhost:8080/"
        },
        "id": "HEdu3xJw25Hp",
        "outputId": "b7e8009e-a175-40b4-a81d-93741f820ced"
      },
      "source": [
        "a"
      ],
      "execution_count": 19,
      "outputs": [
        {
          "output_type": "execute_result",
          "data": {
            "text/plain": [
              "[2, 3, 4, 5, 6, 7, 8]"
            ]
          },
          "metadata": {
            "tags": []
          },
          "execution_count": 19
        }
      ]
    },
    {
      "cell_type": "markdown",
      "metadata": {
        "id": "2eesaFpB296j"
      },
      "source": [
        "## 2단계\n",
        "### 정규식으로 전처리 하고, 슬라이싱으로 판별\n",
        "정규식(re)을 활용한 전처리"
      ]
    },
    {
      "cell_type": "code",
      "metadata": {
        "colab": {
          "base_uri": "https://localhost:8080/"
        },
        "id": "uM3H2YP425mg",
        "outputId": "f4992e7d-6c71-4426-cd87-993a2797e0f4"
      },
      "source": [
        "import re\n",
        "def in_pal(data):\n",
        "        data = data.lower()\n",
        "\n",
        "    \n",
        "    # 정규식 사용\n",
        "data = re.sub('[^a-z0-9]', '', data)\n",
        "\n",
        "if data ==data[::-1]:\n",
        "    print('회문입니다')\n",
        "else:\n",
        "    print('회문이 아닙니다')\n",
        "\n",
        "a = '0Madam, I\\'m Adam0'\n",
        "in_pal(a)"
      ],
      "execution_count": 26,
      "outputs": [
        {
          "output_type": "stream",
          "text": [
            "회문이 아닙니다\n"
          ],
          "name": "stdout"
        }
      ]
    },
    {
      "cell_type": "markdown",
      "metadata": {
        "id": "9fnARgL734BR"
      },
      "source": [
        "## deque를 활용한 구현"
      ]
    },
    {
      "cell_type": "code",
      "metadata": {
        "colab": {
          "base_uri": "https://localhost:8080/"
        },
        "id": "NouwwEkh3CzC",
        "outputId": "30b44efb-eb2d-47fd-fc72-946e6b9fa2ea"
      },
      "source": [
        "import collections\n",
        "def is_pal(data):\n",
        "    deq = collections.deque()\n",
        "    for i in data:\n",
        "        if i.isalnum():\n",
        "            deq.append(i.lower())\n",
        "    while len(deq) > 1:\n",
        "        if deq.popleft() != deq.pop():\n",
        "            print('회문이 아니다')\n",
        "            return\n",
        "    print('회문입니다.')\n",
        "is_pal('0Madam, I\\'m Adam0')"
      ],
      "execution_count": 27,
      "outputs": [
        {
          "output_type": "stream",
          "text": [
            "회문입니다.\n"
          ],
          "name": "stdout"
        }
      ]
    },
    {
      "cell_type": "code",
      "metadata": {
        "id": "W3CJj6Iq36B0"
      },
      "source": [
        ""
      ],
      "execution_count": null,
      "outputs": []
    }
  ]
}